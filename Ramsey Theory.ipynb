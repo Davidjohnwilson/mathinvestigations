{
 "cells": [
  {
   "cell_type": "code",
   "execution_count": 11,
   "metadata": {
    "collapsed": true
   },
   "outputs": [],
   "source": [
    "#Want to investigate Ramsey Theory empirically\n",
    "import random\n",
    "from termcolor import colored"
   ]
  },
  {
   "cell_type": "code",
   "execution_count": 12,
   "metadata": {
    "collapsed": true
   },
   "outputs": [],
   "source": [
    "def random_graph(num_nodes=5):\n",
    "    nodes = [i for i in xrange(num_nodes)]\n",
    "    edges = []\n",
    "    for a in nodes:\n",
    "        for b in nodes:\n",
    "            if a > b:\n",
    "                rand_edge = random.random()\n",
    "                if rand_edge > 0.5:\n",
    "                    edges.append([a,b])\n",
    "    return {'n': nodes, 'e': edges}\n",
    "\n"
   ]
  },
  {
   "cell_type": "code",
   "execution_count": 13,
   "metadata": {
    "collapsed": false
   },
   "outputs": [
    {
     "data": {
      "text/plain": [
       "{'e': [[3, 1], [4, 1], [4, 3]], 'n': [0, 1, 2, 3, 4]}"
      ]
     },
     "execution_count": 13,
     "metadata": {},
     "output_type": "execute_result"
    }
   ],
   "source": [
    "random_graph(5)"
   ]
  },
  {
   "cell_type": "code",
   "execution_count": 14,
   "metadata": {
    "collapsed": true
   },
   "outputs": [],
   "source": [
    "colors = ['red','blue','green','yellow','orange','purple']"
   ]
  },
  {
   "cell_type": "code",
   "execution_count": 15,
   "metadata": {
    "collapsed": true
   },
   "outputs": [],
   "source": [
    "def random_num_color(num_numbers=9,num_colors=2):\n",
    "    return [colors[int(random.random()*num_colors)] for i in xrange(num_numbers)]"
   ]
  },
  {
   "cell_type": "code",
   "execution_count": 16,
   "metadata": {
    "collapsed": false
   },
   "outputs": [
    {
     "data": {
      "text/plain": [
       "['blue', 'blue', 'blue', 'blue', 'red', 'blue', 'blue', 'blue', 'red']"
      ]
     },
     "execution_count": 16,
     "metadata": {},
     "output_type": "execute_result"
    }
   ],
   "source": [
    "random_num_color(9,2)"
   ]
  },
  {
   "cell_type": "code",
   "execution_count": 17,
   "metadata": {
    "collapsed": true
   },
   "outputs": [],
   "source": [
    "def print_nums(color_arr,sep='|'):\n",
    "    print_arr = []\n",
    "    for i in xrange(len(color_arr)):\n",
    "        print_arr.append(colored(str(i+1),color_arr[i]))\n",
    "    print sep.join(print_arr)"
   ]
  },
  {
   "cell_type": "code",
   "execution_count": 18,
   "metadata": {
    "collapsed": false
   },
   "outputs": [
    {
     "name": "stdout",
     "output_type": "stream",
     "text": [
      "\u001b[34m1\u001b[0m|\u001b[31m2\u001b[0m|\u001b[31m3\u001b[0m|\u001b[31m4\u001b[0m|\u001b[34m5\u001b[0m|\u001b[34m6\u001b[0m|\u001b[31m7\u001b[0m|\u001b[34m8\u001b[0m|\u001b[31m9\u001b[0m\n"
     ]
    }
   ],
   "source": [
    "col_arr = random_num_color(9,2)\n",
    "print_nums(col_arr)"
   ]
  },
  {
   "cell_type": "code",
   "execution_count": 19,
   "metadata": {
    "collapsed": false
   },
   "outputs": [
    {
     "name": "stdout",
     "output_type": "stream",
     "text": [
      "\u001b[31m1\u001b[0m|\u001b[31m2\u001b[0m|\u001b[32m3\u001b[0m|\u001b[34m4\u001b[0m|\u001b[32m5\u001b[0m|\u001b[32m6\u001b[0m|\u001b[34m7\u001b[0m|\u001b[34m8\u001b[0m|\u001b[31m9\u001b[0m|\u001b[34m10\u001b[0m|\u001b[34m11\u001b[0m|\u001b[31m12\u001b[0m|\u001b[34m13\u001b[0m|\u001b[31m14\u001b[0m|\u001b[32m15\u001b[0m\n"
     ]
    }
   ],
   "source": [
    "col_arr = random_num_color(15,3)\n",
    "print_nums(col_arr)"
   ]
  },
  {
   "cell_type": "code",
   "execution_count": 20,
   "metadata": {
    "collapsed": false
   },
   "outputs": [
    {
     "name": "stdout",
     "output_type": "stream",
     "text": [
      "\u001b[31m1\u001b[0m|\u001b[34m2\u001b[0m|\u001b[34m3\u001b[0m|\u001b[34m4\u001b[0m|\u001b[31m5\u001b[0m|\u001b[34m6\u001b[0m|\u001b[31m7\u001b[0m|\u001b[34m8\u001b[0m|\u001b[31m9\u001b[0m\n"
     ]
    }
   ],
   "source": [
    "col_arr = random_num_color(9,2)\n",
    "print_nums(col_arr)"
   ]
  },
  {
   "cell_type": "code",
   "execution_count": 21,
   "metadata": {
    "collapsed": false
   },
   "outputs": [
    {
     "name": "stdout",
     "output_type": "stream",
     "text": [
      "\u001b[34m1\u001b[0m|\u001b[34m2\u001b[0m|\u001b[31m3\u001b[0m|\u001b[31m4\u001b[0m|\u001b[31m5\u001b[0m|\u001b[31m6\u001b[0m|\u001b[34m7\u001b[0m|\u001b[31m8\u001b[0m\n"
     ]
    }
   ],
   "source": [
    "col_arr = random_num_color(8,2)\n",
    "print_nums(col_arr)"
   ]
  },
  {
   "cell_type": "code",
   "execution_count": 68,
   "metadata": {
    "collapsed": true
   },
   "outputs": [],
   "source": [
    "def good_color(num_doors=8,num_colors=2,verbose=True):\n",
    "    colors = random_num_color(num_doors,num_colors)\n",
    "    if verbose==True:\n",
    "        print_nums(colors)\n",
    "    poss_progs = [(0,1,2),(1,2,3),(2,3,4),(3,4,5),(4,5,6),(5,6,7),(0,2,4),(1,3,5),(2,4,6),(3,5,7),(0,3,6),(1,4,7)]\n",
    "    for prog in poss_progs:\n",
    "        cols = [colors[i] for i in prog]\n",
    "        if len(set(cols))==1:\n",
    "            return [colors,[p+1 for p in prog],cols[0]]\n",
    "    return [colors,(),\"\"]\n",
    "    "
   ]
  },
  {
   "cell_type": "code",
   "execution_count": 69,
   "metadata": {
    "collapsed": false
   },
   "outputs": [
    {
     "name": "stdout",
     "output_type": "stream",
     "text": [
      "\u001b[31m1\u001b[0m|\u001b[34m2\u001b[0m|\u001b[34m3\u001b[0m|\u001b[31m4\u001b[0m|\u001b[34m5\u001b[0m|\u001b[34m6\u001b[0m|\u001b[34m7\u001b[0m|\u001b[31m8\u001b[0m\n"
     ]
    },
    {
     "data": {
      "text/plain": [
       "[['red', 'blue', 'blue', 'red', 'blue', 'blue', 'blue', 'red'],\n",
       " [5, 6, 7],\n",
       " 'blue']"
      ]
     },
     "execution_count": 69,
     "metadata": {},
     "output_type": "execute_result"
    }
   ],
   "source": [
    "good_color()"
   ]
  },
  {
   "cell_type": "code",
   "execution_count": 78,
   "metadata": {
    "collapsed": false
   },
   "outputs": [
    {
     "name": "stdout",
     "output_type": "stream",
     "text": [
      "Bad coloring!\n",
      "\u001b[34m1\u001b[0m|\u001b[34m2\u001b[0m|\u001b[31m3\u001b[0m|\u001b[31m4\u001b[0m|\u001b[34m5\u001b[0m|\u001b[34m6\u001b[0m|\u001b[31m7\u001b[0m|\u001b[31m8\u001b[0m\n",
      "Bad coloring!\n",
      "\u001b[34m1\u001b[0m|\u001b[31m2\u001b[0m|\u001b[34m3\u001b[0m|\u001b[31m4\u001b[0m|\u001b[31m5\u001b[0m|\u001b[34m6\u001b[0m|\u001b[31m7\u001b[0m|\u001b[34m8\u001b[0m\n"
     ]
    }
   ],
   "source": [
    "for i in xrange(100):\n",
    "    ans = good_color(8,2,False)\n",
    "    if ans[2]==\"\":\n",
    "        print \"Bad coloring!\"\n",
    "        print_nums(ans[0])"
   ]
  },
  {
   "cell_type": "code",
   "execution_count": 66,
   "metadata": {
    "collapsed": false
   },
   "outputs": [
    {
     "data": {
      "text/plain": [
       "256"
      ]
     },
     "execution_count": 66,
     "metadata": {},
     "output_type": "execute_result"
    }
   ],
   "source": [
    "2**8"
   ]
  },
  {
   "cell_type": "code",
   "execution_count": null,
   "metadata": {
    "collapsed": true
   },
   "outputs": [],
   "source": []
  }
 ],
 "metadata": {
  "kernelspec": {
   "display_name": "Python 2",
   "language": "python",
   "name": "python2"
  },
  "language_info": {
   "codemirror_mode": {
    "name": "ipython",
    "version": 2
   },
   "file_extension": ".py",
   "mimetype": "text/x-python",
   "name": "python",
   "nbconvert_exporter": "python",
   "pygments_lexer": "ipython2",
   "version": "2.7.6"
  }
 },
 "nbformat": 4,
 "nbformat_minor": 0
}
