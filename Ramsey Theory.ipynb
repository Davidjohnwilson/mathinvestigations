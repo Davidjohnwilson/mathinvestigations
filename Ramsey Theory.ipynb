{
 "cells": [
  {
   "cell_type": "code",
   "execution_count": 21,
   "metadata": {
    "collapsed": true
   },
   "outputs": [],
   "source": [
    "#Want to investigate Ramsey Theory empirically\n",
    "import random\n",
    "from termcolor import colored"
   ]
  },
  {
   "cell_type": "code",
   "execution_count": 9,
   "metadata": {
    "collapsed": true
   },
   "outputs": [],
   "source": [
    "def random_graph(num_nodes=5):\n",
    "    nodes = [i for i in xrange(num_nodes)]\n",
    "    edges = []\n",
    "    for a in nodes:\n",
    "        for b in nodes:\n",
    "            if a > b:\n",
    "                rand_edge = random.random()\n",
    "                if rand_edge > 0.5:\n",
    "                    edges.append([a,b])\n",
    "    return {'n': nodes, 'e': edges}\n",
    "\n"
   ]
  },
  {
   "cell_type": "code",
   "execution_count": 10,
   "metadata": {
    "collapsed": false
   },
   "outputs": [
    {
     "data": {
      "text/plain": [
       "{'e': [[2, 1], [3, 0], [4, 0], [4, 1], [4, 2]], 'n': [0, 1, 2, 3, 4]}"
      ]
     },
     "execution_count": 10,
     "metadata": {},
     "output_type": "execute_result"
    }
   ],
   "source": [
    "random_graph(5)"
   ]
  },
  {
   "cell_type": "code",
   "execution_count": 30,
   "metadata": {
    "collapsed": true
   },
   "outputs": [],
   "source": [
    "colors = ['red','blue','green','yellow','orange','purple']"
   ]
  },
  {
   "cell_type": "code",
   "execution_count": 17,
   "metadata": {
    "collapsed": true
   },
   "outputs": [],
   "source": [
    "def random_num_color(num_numbers=9,num_colors=2):\n",
    "    return [colors[int(random.random()*num_colors)] for i in xrange(num_numbers)]"
   ]
  },
  {
   "cell_type": "code",
   "execution_count": 20,
   "metadata": {
    "collapsed": false
   },
   "outputs": [
    {
     "data": {
      "text/plain": [
       "['blue', 'red', 'blue', 'red', 'red', 'blue', 'blue', 'blue', 'blue']"
      ]
     },
     "execution_count": 20,
     "metadata": {},
     "output_type": "execute_result"
    }
   ],
   "source": [
    "random_num_color(9,2)"
   ]
  },
  {
   "cell_type": "code",
   "execution_count": 36,
   "metadata": {
    "collapsed": true
   },
   "outputs": [],
   "source": [
    "def print_nums(color_arr,sep='|'):\n",
    "    print_arr = []\n",
    "    for i in xrange(len(color_arr)):\n",
    "        print_arr.append(colored(str(i+1),color_arr[i]))\n",
    "    print sep.join(print_arr)"
   ]
  },
  {
   "cell_type": "code",
   "execution_count": 37,
   "metadata": {
    "collapsed": false
   },
   "outputs": [
    {
     "name": "stdout",
     "output_type": "stream",
     "text": [
      "\u001b[31m1\u001b[0m|\u001b[34m2\u001b[0m|\u001b[34m3\u001b[0m|\u001b[31m4\u001b[0m|\u001b[34m5\u001b[0m|\u001b[34m6\u001b[0m|\u001b[34m7\u001b[0m|\u001b[34m8\u001b[0m|\u001b[34m9\u001b[0m\n"
     ]
    }
   ],
   "source": [
    "col_arr = random_num_color(9,2)\n",
    "print_nums(col_arr)"
   ]
  },
  {
   "cell_type": "code",
   "execution_count": 42,
   "metadata": {
    "collapsed": false
   },
   "outputs": [
    {
     "name": "stdout",
     "output_type": "stream",
     "text": [
      "\u001b[34m1\u001b[0m|\u001b[32m2\u001b[0m|\u001b[34m3\u001b[0m|\u001b[34m4\u001b[0m|\u001b[31m5\u001b[0m|\u001b[32m6\u001b[0m|\u001b[34m7\u001b[0m|\u001b[34m8\u001b[0m|\u001b[31m9\u001b[0m|\u001b[31m10\u001b[0m|\u001b[32m11\u001b[0m|\u001b[31m12\u001b[0m|\u001b[31m13\u001b[0m|\u001b[31m14\u001b[0m|\u001b[31m15\u001b[0m\n"
     ]
    }
   ],
   "source": [
    "col_arr = random_num_color(15,3)\n",
    "print_nums(col_arr)"
   ]
  },
  {
   "cell_type": "code",
   "execution_count": null,
   "metadata": {
    "collapsed": true
   },
   "outputs": [],
   "source": []
  }
 ],
 "metadata": {
  "kernelspec": {
   "display_name": "Python 2",
   "language": "python",
   "name": "python2"
  },
  "language_info": {
   "codemirror_mode": {
    "name": "ipython",
    "version": 2
   },
   "file_extension": ".py",
   "mimetype": "text/x-python",
   "name": "python",
   "nbconvert_exporter": "python",
   "pygments_lexer": "ipython2",
   "version": "2.7.6"
  }
 },
 "nbformat": 4,
 "nbformat_minor": 0
}
