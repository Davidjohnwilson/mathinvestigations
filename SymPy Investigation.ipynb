{
 "cells": [
  {
   "cell_type": "markdown",
   "metadata": {},
   "source": [
    "# SymPy Investigation"
   ]
  },
  {
   "cell_type": "markdown",
   "metadata": {},
   "source": [
    "## David John Wilson"
   ]
  },
  {
   "cell_type": "markdown",
   "metadata": {},
   "source": [
    "This document is intended as a playground for me to get used to the SymPy package. This is an open source python package (associated with NumFocus) that allows for symbolic computation in python. As computer algebra is my personal speciality, I am intrigued to learn more about SymPy and hopefully contribute to it in the future. Hopefully I can one day help implement CAD (and consequently Quantifier Elimination over first order reals) for others to use!"
   ]
  },
  {
   "cell_type": "markdown",
   "metadata": {},
   "source": [
    "### General Setup"
   ]
  },
  {
   "cell_type": "markdown",
   "metadata": {},
   "source": [
    "To begin with we need to import the sympy library (in this case we just import everything from SymPy). We would also usually initialize printing, although I want to delay this a moment to show what init_printing does."
   ]
  },
  {
   "cell_type": "code",
   "execution_count": 1,
   "metadata": {
    "collapsed": true
   },
   "outputs": [],
   "source": [
    "from sympy import *\n",
    "#init_printing()"
   ]
  },
  {
   "cell_type": "markdown",
   "metadata": {},
   "source": [
    "## 1. Basic symbols and expressions"
   ]
  },
  {
   "cell_type": "markdown",
   "metadata": {},
   "source": [
    "Note that before we can use a string as a symbolic variable we need to declare it as one. This can be done quite simply, and we can write out expressions."
   ]
  },
  {
   "cell_type": "code",
   "execution_count": 2,
   "metadata": {
    "collapsed": false
   },
   "outputs": [
    {
     "data": {
      "text/plain": [
       "exp(x)*sin(x) + exp(x)*cos(x)"
      ]
     },
     "execution_count": 2,
     "metadata": {},
     "output_type": "execute_result"
    }
   ],
   "source": [
    "x = symbols('x')\n",
    "exp(x)*sin(x) + exp(x)*cos(x)"
   ]
  },
  {
   "cell_type": "markdown",
   "metadata": {},
   "source": [
    "If we initialize printing then we get a much prettier output. (I am unsure why we get a stray pipe character '|' at the end of the output! It seems like this may be an issue with incompatibilities between versions of iPython/Jupyter and MathJax)."
   ]
  },
  {
   "cell_type": "code",
   "execution_count": 5,
   "metadata": {
    "collapsed": true
   },
   "outputs": [],
   "source": [
    "init_printing()"
   ]
  },
  {
   "cell_type": "code",
   "execution_count": 6,
   "metadata": {
    "collapsed": false
   },
   "outputs": [
    {
     "data": {
      "image/png": "[encoded data removed]",
      "text/latex": [
       "$$e^{x} \\sin{\\left (x \\right )} + e^{x} \\cos{\\left (x \\right )}$$"
      ],
      "text/plain": [
       " x           x       \n",
       "ℯ ⋅sin(x) + ℯ ⋅cos(x)"
      ]
     },
     "execution_count": 6,
     "metadata": {},
     "output_type": "execute_result"
    }
   ],
   "source": [
    "exp(x)*sin(x) + exp(x)*cos(x)"
   ]
  },
  {
   "cell_type": "markdown",
   "metadata": {},
   "source": [
    "Let us save this expression into a variable so that we can use it in the future."
   ]
  },
  {
   "cell_type": "code",
   "execution_count": 7,
   "metadata": {
    "collapsed": false
   },
   "outputs": [],
   "source": [
    "f_exp = exp(x)*sin(x) + exp(x)*cos(x)"
   ]
  },
  {
   "cell_type": "markdown",
   "metadata": {},
   "source": [
    "We can do many straightforward procedures such as factoring. This will pull out the exponential term from the expression."
   ]
  },
  {
   "cell_type": "code",
   "execution_count": 8,
   "metadata": {
    "collapsed": false
   },
   "outputs": [
    {
     "data": {
      "image/png": "[encoded data removed]",
      "text/latex": [
       "$$\\left(\\sin{\\left (x \\right )} + \\cos{\\left (x \\right )}\\right) e^{x}$$"
      ],
      "text/plain": [
       "                   x\n",
       "(sin(x) + cos(x))⋅ℯ "
      ]
     },
     "execution_count": 8,
     "metadata": {},
     "output_type": "execute_result"
    }
   ],
   "source": [
    "factor(f_exp)"
   ]
  },
  {
   "cell_type": "markdown",
   "metadata": {},
   "source": [
    "SymPy can be much smarter than this though! If we simply ask SymPy to simplify the expression it produces a new way to write f_exp."
   ]
  },
  {
   "cell_type": "code",
   "execution_count": 9,
   "metadata": {
    "collapsed": false
   },
   "outputs": [
    {
     "data": {
      "image/png": "[encoded data removed]",
      "text/latex": [
       "$$\\sqrt{2} e^{x} \\sin{\\left (x + \\frac{\\pi}{4} \\right )}$$"
      ],
      "text/plain": [
       "    x    ⎛    π⎞\n",
       "√2⋅ℯ ⋅sin⎜x + ─⎟\n",
       "         ⎝    4⎠"
      ]
     },
     "execution_count": 9,
     "metadata": {},
     "output_type": "execute_result"
    }
   ],
   "source": [
    "simplify(f_exp)"
   ]
  },
  {
   "cell_type": "markdown",
   "metadata": {},
   "source": [
    "The process of simplifying symbolic expressions is a surprisingly complicated one, that does not have a simple (pardon the pun) solution. For an example of this, see the aside below.\n",
    "\n",
    "Note, that using simplify or factor does not change f_exp. If we ask to print f_exp again we get the same expressionas before. "
   ]
  },
  {
   "cell_type": "code",
   "execution_count": 10,
   "metadata": {
    "collapsed": false
   },
   "outputs": [
    {
     "data": {
      "image/png": "[encoded data removed]",
      "text/latex": [
       "$$e^{x} \\sin{\\left (x \\right )} + e^{x} \\cos{\\left (x \\right )}$$"
      ],
      "text/plain": [
       " x           x       \n",
       "ℯ ⋅sin(x) + ℯ ⋅cos(x)"
      ]
     },
     "execution_count": 10,
     "metadata": {},
     "output_type": "execute_result"
    }
   ],
   "source": [
    "f_exp"
   ]
  },
  {
   "cell_type": "code",
   "execution_count": 11,
   "metadata": {
    "collapsed": false
   },
   "outputs": [
    {
     "data": {
      "image/png": "[encoded data removed]",
      "text/latex": [
       "$$e^{x} \\sin{\\left (x \\right )}$$"
      ],
      "text/plain": [
       " x       \n",
       "ℯ ⋅sin(x)"
      ]
     },
     "execution_count": 11,
     "metadata": {},
     "output_type": "execute_result"
    }
   ],
   "source": [
    "integrate(f_exp,x)"
   ]
  },
  {
   "cell_type": "markdown",
   "metadata": {},
   "source": [
    "#### Aside: Simplification"
   ]
  },
  {
   "cell_type": "markdown",
   "metadata": {},
   "source": [
    "Function simplification seems like it should be, well, simple. After all it is usually really easy to tell a simple mathematical expression from a complicated one.\n",
    "\n",
    "Let's start with a trivial example. Which of the following expressions below is the simplest?\n",
    "```\n",
    "1000/100, 10, 1234567890/123456789, 2^3*3^7*5^8/2^2*3^7*5^7, 10*1*1\n",
    "```"
   ]
  },
  {
   "cell_type": "markdown",
   "metadata": {},
   "source": [
    "I think it's fairly obvious the answer is the second entry. It would seem sensible to use this to build out a couple of rules for simplifying fractions: if the denominator divides the numerator, do so, and then remove any superfluous unit multiplications."
   ]
  },
  {
   "cell_type": "markdown",
   "metadata": {},
   "source": [
    "We could easily think of expanding this to fractions, and it may initially seem a smart idea:"
   ]
  },
  {
   "cell_type": "code",
   "execution_count": 12,
   "metadata": {
    "collapsed": false
   },
   "outputs": [
    {
     "data": {
      "image/png": "[encoded data removed]",
      "text/latex": [
       "$$\\frac{x^{5} + 2 x^{4} - x^{3} - x^{2} - 1}{x^{3} + 2 x^{2} + 1}$$"
      ],
      "text/plain": [
       " 5      4    3    2    \n",
       "x  + 2⋅x  - x  - x  - 1\n",
       "───────────────────────\n",
       "      3      2         \n",
       "     x  + 2⋅x  + 1     "
      ]
     },
     "execution_count": 12,
     "metadata": {},
     "output_type": "execute_result"
    }
   ],
   "source": [
    "frac = (x**5+2*x**4-x**3-x**2-1)/(x**3+2*x**2+1)\n",
    "frac"
   ]
  },
  {
   "cell_type": "markdown",
   "metadata": {},
   "source": [
    "This not particularly nice looking fraction simplifies down to a much more elegant expression:"
   ]
  },
  {
   "cell_type": "code",
   "execution_count": 13,
   "metadata": {
    "collapsed": false
   },
   "outputs": [
    {
     "data": {
      "image/png": "[encoded data removed]",
      "text/latex": [
       "$$x^{2} - 1$$"
      ],
      "text/plain": [
       " 2    \n",
       "x  - 1"
      ]
     },
     "execution_count": 13,
     "metadata": {},
     "output_type": "execute_result"
    }
   ],
   "source": [
    "x**2-1"
   ]
  },
  {
   "cell_type": "markdown",
   "metadata": {},
   "source": [
    "So far, so simple. But what happens when we're faced with something a little more subtle? What about dividing `x**n-1` by `x-1`. We know that for all integer `n` greater than 0 this division is exact; so we should just divide straight away, right? \n",
    "\n",
    "Letting `n=2`, this seems obvious. The second expression is clearly simpler:"
   ]
  },
  {
   "cell_type": "code",
   "execution_count": 14,
   "metadata": {
    "collapsed": false
   },
   "outputs": [
    {
     "data": {
      "image/png": "[encoded data removed]",
      "text/latex": [
       "$$\\left [ \\frac{x^{2} - 1}{x - 1}, \\quad x + 1\\right ]$$"
      ],
      "text/plain": [
       "⎡ 2           ⎤\n",
       "⎢x  - 1       ⎥\n",
       "⎢──────, x + 1⎥\n",
       "⎣x - 1        ⎦"
      ]
     },
     "execution_count": 14,
     "metadata": {},
     "output_type": "execute_result"
    }
   ],
   "source": [
    "[(x**2-1)/(x-1),x+1]"
   ]
  },
  {
   "cell_type": "markdown",
   "metadata": {},
   "source": [
    "Indeed, when we ask SymPy to simplify the expression they give us precisely that:"
   ]
  },
  {
   "cell_type": "code",
   "execution_count": 15,
   "metadata": {
    "collapsed": false
   },
   "outputs": [
    {
     "data": {
      "image/png": "[encoded data removed]",
      "text/latex": [
       "$$x + 1$$"
      ],
      "text/plain": [
       "x + 1"
      ]
     },
     "execution_count": 15,
     "metadata": {},
     "output_type": "execute_result"
    }
   ],
   "source": [
    "simplify((x**2-1)/(x-1))"
   ]
  },
  {
   "cell_type": "markdown",
   "metadata": {},
   "source": [
    "But what about a bigger expression? What if `n=100`?"
   ]
  },
  {
   "cell_type": "code",
   "execution_count": 16,
   "metadata": {
    "collapsed": false
   },
   "outputs": [
    {
     "data": {
      "image/png": "[encoded data removed]",
      "text/latex": [
       "$$\\frac{x^{100} - 1}{x - 1}$$"
      ],
      "text/plain": [
       " 100    \n",
       "x    - 1\n",
       "────────\n",
       " x - 1  "
      ]
     },
     "execution_count": 16,
     "metadata": {},
     "output_type": "execute_result"
    }
   ],
   "source": [
    "(x**100-1)/(x-1)"
   ]
  },
  {
   "cell_type": "markdown",
   "metadata": {},
   "source": [
    "If we ask SymPy to simplify this expression it simply leaves it alone. Why is that?"
   ]
  },
  {
   "cell_type": "code",
   "execution_count": 17,
   "metadata": {
    "collapsed": false
   },
   "outputs": [
    {
     "data": {
      "image/png": "[encoded data removed]",
      "text/latex": [
       "$$\\frac{x^{100} - 1}{x - 1}$$"
      ],
      "text/plain": [
       " 100    \n",
       "x    - 1\n",
       "────────\n",
       " x - 1  "
      ]
     },
     "execution_count": 17,
     "metadata": {},
     "output_type": "execute_result"
    }
   ],
   "source": [
    "simplify((x**100-1)/(x-1))"
   ]
  },
  {
   "cell_type": "markdown",
   "metadata": {},
   "source": [
    "Well, if we did the exact division as we might want to, then we get the following expression:"
   ]
  },
  {
   "cell_type": "code",
   "execution_count": 18,
   "metadata": {
    "collapsed": false
   },
   "outputs": [
    {
     "data": {
      "image/png": "[encoded data removed]",
      "text/latex": [
       "$$x^{99} + x^{98} + x^{97} + x^{96} + x^{95} + x^{94} + x^{93} + x^{92} + x^{91} + x^{90} + x^{89} + x^{88} + x^{87} + x^{86} + x^{85} + x^{84} + x^{83} + x^{82} + x^{81} + x^{80} + x^{79} + x^{78} + x^{77} + x^{76} + x^{75} + x^{74} + x^{73} + x^{72} + x^{71} + x^{70} + x^{69} + x^{68} + x^{67} + x^{66} + x^{65} + x^{64} + x^{63} + x^{62} + x^{61} + x^{60} + x^{59} + x^{58} + x^{57} + x^{56} + x^{55} + x^{54} + x^{53} + x^{52} + x^{51} + x^{50} + x^{49} + x^{48} + x^{47} + x^{46} + x^{45} + x^{44} + x^{43} + x^{42} + x^{41} + x^{40} + x^{39} + x^{38} + x^{37} + x^{36} + x^{35} + x^{34} + x^{33} + x^{32} + x^{31} + x^{30} + x^{29} + x^{28} + x^{27} + x^{26} + x^{25} + x^{24} + x^{23} + x^{22} + x^{21} + x^{20} + x^{19} + x^{18} + x^{17} + x^{16} + x^{15} + x^{14} + x^{13} + x^{12} + x^{11} + x^{10} + x^{9} + x^{8} + x^{7} + x^{6} + x^{5} + x^{4} + x^{3} + x^{2} + x + 1$$"
      ],
      "text/plain": [
       " 99    98    97    96    95    94    93    92    91    90    89    88    87   \n",
       "x   + x   + x   + x   + x   + x   + x   + x   + x   + x   + x   + x   + x   + \n",
       "\n",
       " 86    85    84    83    82    81    80    79    78    77    76    75    74   \n",
       "x   + x   + x   + x   + x   + x   + x   + x   + x   + x   + x   + x   + x   + \n",
       "\n",
       " 73    72    71    70    69    68    67    66    65    64    63    62    61   \n",
       "x   + x   + x   + x   + x   + x   + x   + x   + x   + x   + x   + x   + x   + \n",
       "\n",
       " 60    59    58    57    56    55    54    53    52    51    50    49    48   \n",
       "x   + x   + x   + x   + x   + x   + x   + x   + x   + x   + x   + x   + x   + \n",
       "\n",
       " 47    46    45    44    43    42    41    40    39    38    37    36    35   \n",
       "x   + x   + x   + x   + x   + x   + x   + x   + x   + x   + x   + x   + x   + \n",
       "\n",
       " 34    33    32    31    30    29    28    27    26    25    24    23    22   \n",
       "x   + x   + x   + x   + x   + x   + x   + x   + x   + x   + x   + x   + x   + \n",
       "\n",
       " 21    20    19    18    17    16    15    14    13    12    11    10    9    \n",
       "x   + x   + x   + x   + x   + x   + x   + x   + x   + x   + x   + x   + x  + x\n",
       "\n",
       "8    7    6    5    4    3    2        \n",
       "  + x  + x  + x  + x  + x  + x  + x + 1"
      ]
     },
     "execution_count": 18,
     "metadata": {},
     "output_type": "execute_result"
    }
   ],
   "source": [
    "g = 0\n",
    "for i in xrange(100):\n",
    "    g+=x**i\n",
    "g"
   ]
  },
  {
   "cell_type": "markdown",
   "metadata": {},
   "source": [
    "This certainly wouldn't be considered 'simpler' than the fraction by most people. If nothing else, the number of terms in the expression (100) is much larger than the number of terms in the fraction (4). \n",
    "\n",
    "But we can't even use number of terms to choose! When `n=4` the number of terms (and, in fact, the number of operators) is the same for both expressions. In this case, SymPy decides to leave the expression as a fraction (whilst for `n<4` it conducts the division)."
   ]
  },
  {
   "cell_type": "code",
   "execution_count": 19,
   "metadata": {
    "collapsed": false
   },
   "outputs": [
    {
     "data": {
      "image/png": "[encoded data removed]",
      "text/latex": [
       "$$\\left [ \\frac{x^{4} - 1}{x - 1}, \\quad x^{3} + x^{2} + x + 1, \\quad \\frac{x^{4} - 1}{x - 1}\\right ]$$"
      ],
      "text/plain": [
       "⎡ 4                        4    ⎤\n",
       "⎢x  - 1   3    2          x  - 1⎥\n",
       "⎢──────, x  + x  + x + 1, ──────⎥\n",
       "⎣x - 1                    x - 1 ⎦"
      ]
     },
     "execution_count": 19,
     "metadata": {},
     "output_type": "execute_result"
    }
   ],
   "source": [
    "[(x**4-1)/(x-1),x**3+x**2+x**1+1,simplify((x**4-1)/(x-1))]"
   ]
  },
  {
   "cell_type": "markdown",
   "metadata": {},
   "source": [
    "So if you're using simplify and getting frustrated that it isn't working as you expect it to, remember that it is a much more difficult problem than you may think!"
   ]
  },
  {
   "cell_type": "markdown",
   "metadata": {},
   "source": [
    "## 2. Solving expressions"
   ]
  },
  {
   "cell_type": "markdown",
   "metadata": {},
   "source": [
    "We now move onto one of the most important and often-used features of a symbolic computation or computer algebra system: solving expressions. \n",
    "\n",
    "We start by trying to solve possibly the most famous equation of them all: the quadratic equation. Remember that we need to define symbols for all terms involved in our expression."
   ]
  },
  {
   "cell_type": "code",
   "execution_count": 20,
   "metadata": {
    "collapsed": true
   },
   "outputs": [],
   "source": [
    "a,b,c = symbols('a b c')"
   ]
  },
  {
   "cell_type": "markdown",
   "metadata": {},
   "source": [
    "We start with solving an equation that has an exact solution: $x^2-x-1$. The solution to this equation is the golden ratio, $\\varphi$. Asking SymPy to solve this equation gives both solutions: $\\varphi$ and $1-\\varphi$."
   ]
  },
  {
   "cell_type": "code",
   "execution_count": 21,
   "metadata": {
    "collapsed": false
   },
   "outputs": [
    {
     "data": {
      "image/png": "[encoded data removed]",
      "text/latex": [
       "$$\\left [ \\left ( \\frac{1}{2} + \\frac{\\sqrt{5}}{2}\\right ), \\quad \\left ( - \\frac{\\sqrt{5}}{2} + \\frac{1}{2}\\right )\\right ]$$"
      ],
      "text/plain": [
       "⎡⎛1   √5 ⎞  ⎛  √5   1 ⎞⎤\n",
       "⎢⎜─ + ──,⎟, ⎜- ── + ─,⎟⎥\n",
       "⎣⎝2   2  ⎠  ⎝  2    2 ⎠⎦"
      ]
     },
     "execution_count": 21,
     "metadata": {},
     "output_type": "execute_result"
    }
   ],
   "source": [
    "solve([x**2-x-1],x)"
   ]
  },
  {
   "cell_type": "markdown",
   "metadata": {},
   "source": [
    "Note that SymPy returns an exact solution for these equations. Wherever possible, SymPy will solve an equation in an exact (i.e. symbolic) form. However, if a decimal value is required we can use the `evalf` function, whilst also giving an optional parameter to determine the accuracy. "
   ]
  },
  {
   "cell_type": "code",
   "execution_count": 27,
   "metadata": {
    "collapsed": false
   },
   "outputs": [
    {
     "data": {
      "image/png": "[encoded data removed]",
      "text/latex": [
       "$$1.618033988749894848204586834365638117720309179805762862135448622705260462818902449707207204189391137$$"
      ],
      "text/plain": [
       "1.6180339887498948482045868343656381177203091798057628621354486227052604628189\n",
       "02449707207204189391137"
      ]
     },
     "execution_count": 27,
     "metadata": {},
     "output_type": "execute_result"
    }
   ],
   "source": [
    "solve([x**2-x-1],x)[0][0].evalf(100)"
   ]
  },
  {
   "cell_type": "markdown",
   "metadata": {},
   "source": [
    "We can do something a little more interesting in SymPy than just solving equations with exact numerical solutions. We can include other symbols as a parameter within our equations to be solved.\n",
    "\n",
    "To give a concrete example, let us solve the generalized quadratic equation: $ax^2+bx+c=0$."
   ]
  },
  {
   "cell_type": "code",
   "execution_count": 25,
   "metadata": {
    "collapsed": false
   },
   "outputs": [
    {
     "data": {
      "image/png": "[encoded data removed]",
      "text/latex": [
       "$$\\left [ \\left ( - \\frac{b}{2 a} - \\frac{1}{2 a} \\sqrt{- 4 a c + b^{2}}\\right ), \\quad \\left ( - \\frac{b}{2 a} + \\frac{1}{2 a} \\sqrt{- 4 a c + b^{2}}\\right )\\right ]$$"
      ],
      "text/plain": [
       "⎡⎛           _____________ ⎞  ⎛           _____________ ⎞⎤\n",
       "⎢⎜          ╱           2  ⎟  ⎜          ╱           2  ⎟⎥\n",
       "⎢⎜   b    ╲╱  -4⋅a⋅c + b   ⎟  ⎜   b    ╲╱  -4⋅a⋅c + b   ⎟⎥\n",
       "⎢⎜- ─── - ────────────────,⎟, ⎜- ─── + ────────────────,⎟⎥\n",
       "⎣⎝  2⋅a         2⋅a        ⎠  ⎝  2⋅a         2⋅a        ⎠⎦"
      ]
     },
     "execution_count": 25,
     "metadata": {},
     "output_type": "execute_result"
    }
   ],
   "source": [
    "solve([a*x**2+b*x+c],x)"
   ]
  },
  {
   "cell_type": "markdown",
   "metadata": {
    "collapsed": true
   },
   "source": [
    "It is worth noting that solving in SymPy is somewhat naive. SymPy makes some assumptions about the parameters and does not branch its solutions: in the above equation we are assuming $a\\neq0$ (thus allowing for division by $a$) and should have a separate case when $a=0$ and a further branching on whether $b=0$ or $b\\neq0$."
   ]
  },
  {
   "cell_type": "code",
   "execution_count": null,
   "metadata": {
    "collapsed": true
   },
   "outputs": [],
   "source": []
  },
  {
   "cell_type": "code",
   "execution_count": null,
   "metadata": {
    "collapsed": true
   },
   "outputs": [],
   "source": []
  },
  {
   "cell_type": "markdown",
   "metadata": {
    "collapsed": true
   },
   "source": [
    "## 3. Other Functions"
   ]
  },
  {
   "cell_type": "markdown",
   "metadata": {
    "collapsed": true
   },
   "source": [
    "As we saw in the introduction, it is possible to do a variety of other transformations on expressions. For example we can take derivatives, integrals, and limits with ease."
   ]
  },
  {
   "cell_type": "code",
   "execution_count": 80,
   "metadata": {
    "collapsed": false
   },
   "outputs": [
    {
     "data": {
      "image/png": "[encoded data removed]",
      "text/latex": [
       "$$e^{x} \\sin{\\left (x \\right )}$$"
      ],
      "text/plain": [
       " x       \n",
       "ℯ ⋅sin(x)"
      ]
     },
     "execution_count": 80,
     "metadata": {},
     "output_type": "execute_result"
    }
   ],
   "source": [
    "f = sin(x)*exp(x)\n",
    "f"
   ]
  },
  {
   "cell_type": "markdown",
   "metadata": {},
   "source": [
    "Consider the function we give above: an exponential and trigonometric function multiplied together. With a single line we can integrate these exactly:"
   ]
  },
  {
   "cell_type": "code",
   "execution_count": 81,
   "metadata": {
    "collapsed": false,
    "scrolled": true
   },
   "outputs": [
    {
     "data": {
      "image/png": "[encoded data removed]",
      "text/latex": [
       "$$\\frac{e^{x}}{2} \\sin{\\left (x \\right )} - \\frac{e^{x}}{2} \\cos{\\left (x \\right )}$$"
      ],
      "text/plain": [
       " x           x       \n",
       "ℯ ⋅sin(x)   ℯ ⋅cos(x)\n",
       "───────── - ─────────\n",
       "    2           2    "
      ]
     },
     "execution_count": 81,
     "metadata": {},
     "output_type": "execute_result"
    }
   ],
   "source": [
    "integrate(f,x)"
   ]
  },
  {
   "cell_type": "code",
   "execution_count": 87,
   "metadata": {
    "collapsed": false
   },
   "outputs": [
    {
     "data": {
      "image/png": "[encoded data removed]",
      "text/latex": [
       "$$- \\frac{1}{2 e^{\\pi}} + \\frac{e^{\\pi}}{2}$$"
      ],
      "text/plain": [
       "   -π    π\n",
       "  ℯ     ℯ \n",
       "- ─── + ──\n",
       "   2    2 "
      ]
     },
     "execution_count": 87,
     "metadata": {},
     "output_type": "execute_result"
    }
   ],
   "source": [
    "integrate(f,(x,-pi,pi))"
   ]
  },
  {
   "cell_type": "code",
   "execution_count": 67,
   "metadata": {
    "collapsed": false
   },
   "outputs": [
    {
     "data": {
      "image/png": "[encoded data removed]",
      "text/latex": [
       "$$e^{x} \\sin{\\left (x \\right )} + e^{x} \\cos{\\left (x \\right )}$$"
      ],
      "text/plain": [
       " x           x       \n",
       "ℯ ⋅sin(x) + ℯ ⋅cos(x)"
      ]
     },
     "execution_count": 67,
     "metadata": {},
     "output_type": "execute_result"
    }
   ],
   "source": [
    "diff(f,x)"
   ]
  },
  {
   "cell_type": "code",
   "execution_count": 75,
   "metadata": {
    "collapsed": false
   },
   "outputs": [
    {
     "data": {
      "image/png": "[encoded data removed]",
      "text/latex": [
       "$$2 \\left(- \\sin{\\left (x \\right )} + \\cos{\\left (x \\right )} + \\frac{1}{x} \\cos{\\left (x \\right )} - \\frac{1}{x^{2}} \\sin{\\left (x \\right )} - \\frac{1}{x^{2}} \\cos{\\left (x \\right )} + \\frac{1}{x^{3}} \\sin{\\left (x \\right )}\\right) e^{x}$$"
      ],
      "text/plain": [
       "  ⎛                   cos(x)   sin(x)   cos(x)   sin(x)⎞  x\n",
       "2⋅⎜-sin(x) + cos(x) + ────── - ────── - ────── + ──────⎟⋅ℯ \n",
       "  ⎜                     x         2        2        3  ⎟   \n",
       "  ⎝                              x        x        x   ⎠   "
      ]
     },
     "execution_count": 75,
     "metadata": {},
     "output_type": "execute_result"
    }
   ],
   "source": [
    "diff(f/x+diff(f,x),x,x)"
   ]
  },
  {
   "cell_type": "code",
   "execution_count": 72,
   "metadata": {
    "collapsed": false
   },
   "outputs": [
    {
     "data": {
      "image/png": "[encoded data removed]",
      "text/latex": [
       "$$1$$"
      ],
      "text/plain": [
       "1"
      ]
     },
     "execution_count": 72,
     "metadata": {},
     "output_type": "execute_result"
    }
   ],
   "source": [
    "limit(f/x,x,0)"
   ]
  },
  {
   "cell_type": "code",
   "execution_count": null,
   "metadata": {
    "collapsed": true
   },
   "outputs": [],
   "source": []
  },
  {
   "cell_type": "code",
   "execution_count": null,
   "metadata": {
    "collapsed": true
   },
   "outputs": [],
   "source": []
  },
  {
   "cell_type": "code",
   "execution_count": null,
   "metadata": {
    "collapsed": true
   },
   "outputs": [],
   "source": []
  },
  {
   "cell_type": "code",
   "execution_count": null,
   "metadata": {
    "collapsed": true
   },
   "outputs": [],
   "source": []
  },
  {
   "cell_type": "code",
   "execution_count": null,
   "metadata": {
    "collapsed": true
   },
   "outputs": [],
   "source": []
  },
  {
   "cell_type": "code",
   "execution_count": null,
   "metadata": {
    "collapsed": true
   },
   "outputs": [],
   "source": []
  },
  {
   "cell_type": "code",
   "execution_count": null,
   "metadata": {
    "collapsed": true
   },
   "outputs": [],
   "source": []
  },
  {
   "cell_type": "code",
   "execution_count": null,
   "metadata": {
    "collapsed": true
   },
   "outputs": [],
   "source": []
  },
  {
   "cell_type": "code",
   "execution_count": null,
   "metadata": {
    "collapsed": true
   },
   "outputs": [],
   "source": []
  }
 ],
 "metadata": {
  "kernelspec": {
   "display_name": "Python 2",
   "language": "python",
   "name": "python2"
  },
  "language_info": {
   "codemirror_mode": {
    "name": "ipython",
    "version": 2
   },
   "file_extension": ".py",
   "mimetype": "text/x-python",
   "name": "python",
   "nbconvert_exporter": "python",
   "pygments_lexer": "ipython2",
   "version": "2.7.6"
  }
 },
 "nbformat": 4,
 "nbformat_minor": 0
}
