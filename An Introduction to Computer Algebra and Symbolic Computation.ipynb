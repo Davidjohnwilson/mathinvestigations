{
 "cells": [
  {
   "cell_type": "markdown",
   "metadata": {},
   "source": [
    "## Introduction"
   ]
  },
  {
   "cell_type": "markdown",
   "metadata": {},
   "source": [
    "This notebook is intended to give an introduction to the world of computer algebra: what it is, how we do it, and why we do it.\n",
    "\n",
    "The notebook can also be thought of as an introduction to the python library: **SymPy**. This is an open source library that allows you to do symbolic computation through Python and is an astonishing library with a lot of functionality. "
   ]
  },
  {
   "cell_type": "markdown",
   "metadata": {},
   "source": [
    "## What is Computer Algebra?"
   ]
  },
  {
   "cell_type": "markdown",
   "metadata": {},
   "source": [
    "When we first learn mathematics, one of the first things we learn to do is add. When faced with the question \"What is $2+2$?\" we know that the answer is $4$. Later we learn that calculators can easily do this kind of computation for us, and so can computers. In Python it is very easy to find out the answer:"
   ]
  },
  {
   "cell_type": "code",
   "execution_count": 1,
   "metadata": {
    "collapsed": false
   },
   "outputs": [
    {
     "name": "stdout",
     "output_type": "stream",
     "text": [
      "2+2=4\n"
     ]
    }
   ],
   "source": [
    "print('2+2='+str(2+2))"
   ]
  },
  {
   "cell_type": "markdown",
   "metadata": {},
   "source": [
    "Later we start to replace unknown numbers with letters, and started a foray into *algebra*. \n",
    "\n",
    "Things started pretty simple, solving equations such as $x-2=2$. We learn to add 2 to each side, and obviously we can use a computer to help with this sort of thing. \n",
    "\n",
    "But what about something a little bit more complicated? One of the first truly interesting operations we find out about is the square root. What if we need to solve an equation like $x^2=2$?\n",
    "\n",
    "Let's appeal to the computer to help us. We know to take the square root of each side - Python's `math` library contains a square root function that we can use. We get the following answer:"
   ]
  },
  {
   "cell_type": "code",
   "execution_count": 2,
   "metadata": {
    "collapsed": false
   },
   "outputs": [
    {
     "data": {
      "text/plain": [
       "1.4142135623730951"
      ]
     },
     "execution_count": 2,
     "metadata": {},
     "output_type": "execute_result"
    }
   ],
   "source": [
    "from math import sqrt\n",
    "sqrt(2)"
   ]
  },
  {
   "cell_type": "markdown",
   "metadata": {},
   "source": [
    "Now this answer is certainly a representation of the square root of two. But what happens if we square the answer to check?"
   ]
  },
  {
   "cell_type": "code",
   "execution_count": 3,
   "metadata": {
    "collapsed": false
   },
   "outputs": [
    {
     "data": {
      "text/plain": [
       "2.0000000000000004"
      ]
     },
     "execution_count": 3,
     "metadata": {},
     "output_type": "execute_result"
    }
   ],
   "source": [
    "sq_2 = sqrt(2)\n",
    "sq_2*sq_2"
   ]
  },
  {
   "cell_type": "markdown",
   "metadata": {},
   "source": [
    "*What?* We started with the number 2, took it's square root, then squared that. We should obviously get 2 back again? Yet we have got a number ever so slightly bigger than 2. \n",
    "\n",
    "Why did we get this slightly wrong answer? Computers don't compute *exactly*: so by rounding the answer to 16 decimal places gives us a little error. There are ways to mitigate these errors: computing error bounds to ensure you are computing exactly to a certain precision. But there is also an alternative: **Computer Algebra!**."
   ]
  },
  {
   "cell_type": "markdown",
   "metadata": {},
   "source": [
    "As mentioned in the introduction, we will be using **SymPy**: so we import the library and initiate it."
   ]
  },
  {
   "cell_type": "code",
   "execution_count": 4,
   "metadata": {
    "collapsed": true
   },
   "outputs": [],
   "source": [
    "from sympy import *\n",
    "init_printing()"
   ]
  },
  {
   "cell_type": "markdown",
   "metadata": {},
   "source": [
    "Now we do the same computation as earlier. Let us take the square root of 2."
   ]
  },
  {
   "cell_type": "code",
   "execution_count": 5,
   "metadata": {
    "collapsed": false
   },
   "outputs": [
    {
     "data": {
      "image/png": "[encoded data removed]",
      "text/latex": [
       "$$\\sqrt{2}$$"
      ],
      "text/plain": [
       "√2"
      ]
     },
     "execution_count": 5,
     "metadata": {},
     "output_type": "execute_result"
    }
   ],
   "source": [
    "sqrt(2)"
   ]
  },
  {
   "cell_type": "markdown",
   "metadata": {},
   "source": [
    "Note that we didn't get a number approximating the square root of two, but we got a symbol representing the number. This may seem like cheating - we just wrote down the operator rather than actually computing anything! But we can use this representation in further computations and actually work with it just like a real number. So let us save it in a variable and try squaring it."
   ]
  },
  {
   "cell_type": "code",
   "execution_count": 6,
   "metadata": {
    "collapsed": false
   },
   "outputs": [
    {
     "data": {
      "image/png": "[encoded data removed]",
      "text/latex": [
       "$$2$$"
      ],
      "text/plain": [
       "2"
      ]
     },
     "execution_count": 6,
     "metadata": {},
     "output_type": "execute_result"
    }
   ],
   "source": [
    "sq_2 = sqrt(2)\n",
    "sq_2*sq_2"
   ]
  },
  {
   "cell_type": "markdown",
   "metadata": {},
   "source": [
    "Notice that we got the integer 2 back! We didn't get an approximation of 2, or even the float 2: SymPy is smart enough to do the exact computation. And we can do more complicated calculations: $((\\sqrt{2}+\\sqrt{2})^3 + \\sqrt{2})^2$. If we use **SymPy** we get the exact answer 578, whilst using the old value given to use by the `math` library gives us a number slightly smaller than 578."
   ]
  },
  {
   "cell_type": "code",
   "execution_count": 7,
   "metadata": {
    "collapsed": false
   },
   "outputs": [
    {
     "data": {
      "image/png": "[encoded data removed]",
      "text/latex": [
       "$$578$$"
      ],
      "text/plain": [
       "578"
      ]
     },
     "execution_count": 7,
     "metadata": {},
     "output_type": "execute_result"
    }
   ],
   "source": [
    "((sq_2+sq_2)**3 + sq_2)**2"
   ]
  },
  {
   "cell_type": "code",
   "execution_count": 8,
   "metadata": {
    "collapsed": false
   },
   "outputs": [
    {
     "data": {
      "image/png": "[encoded data removed]",
      "text/latex": [
       "$$577.999999993$$"
      ],
      "text/plain": [
       "577.999999993"
      ]
     },
     "execution_count": 8,
     "metadata": {},
     "output_type": "execute_result"
    }
   ],
   "source": [
    "old_sq_2 = 1.41421356237\n",
    "((old_sq_2+old_sq_2)**3 + old_sq_2)**2"
   ]
  },
  {
   "cell_type": "markdown",
   "metadata": {},
   "source": [
    "So why don't computers always use a symbolic approach?\n",
    "\n",
    "First, often we don't want a symbolic answer! Most of the time when we use a computer to do calculations we are looking to do something \"in the real world\" with the answer. If we have a numerical value that will be more useful than a string of symbols. \n",
    "\n",
    "That's not to say that you can't 'use' answers from **SymPy**. In fact, we can evaluate answers to any number of significant figures:"
   ]
  },
  {
   "cell_type": "code",
   "execution_count": 9,
   "metadata": {
    "collapsed": false
   },
   "outputs": [
    {
     "name": "stdout",
     "output_type": "stream",
     "text": [
      "1.414213562373095048801688724209698078569671875376948073176679737990732478462107038850387534327641573\n",
      "=========>\n",
      "1.4142135623730950488016887242096980785696718753769480731766797379907324784621070388503875343276415727350138462309122970249248360558507372126441214970999358314132226659275055927557999505011527820605714701095599716059702745345968620147285174186408891986095523292304843087143214508397626036279952514079896872533965463318088296406206152583523950547457502877599617298355752203375318570113543746034084988471603868999706990048150305440277903164542478230684929369186215805784631115966687130130156185689872372352885092648612494977154218334204285686060146824720771435854874155657069677653720226485447015858801620758474922657226002085584466521458398893944370926591800311388246468157082630100594858704003186480342194897278290641045072636881313739855256117322040245091227700226941127573627280495738108967504018369868368450725799364729060762996941380475654823728997180326802474420629269124859052181004459842150591120249441341728531478105803603371077309182869314710171111683916581726889419758716582152128229518488472089694633862891562882765952635140542267653239694617511291602408715510135150455381287560052631468017127402653969470240300517495318862925631385188163478001569369176881852378684052287837629389214300655869568685964595155501644724509836896036887323114389415576651040883914292338113206052433629485317049915771756228549741438999188021762430965206564211827316726257539594717255934637238632261482742622208671155839599926521176252698917540988159348640083457085181472231814204070426509056532333398436457865796796519267292399875366617215982578860263363617827495994219403777753681426217738799194551397231274066898329989895386728822856378697749662519966583525776198939322845344735694794962952168891485492538904755828834526096524096542889394538646625744927556381964410316979833061852019379384940057156333720548068540575867999670121372239475821426306585132217408832382947287617393647467837431960001592188807347857617252211867490424977366929207311096369721608933708661156734585334833295254675851644710757848602463600\n"
     ]
    }
   ],
   "source": [
    "print(sq_2.evalf(100))\n",
    "print('=========>')\n",
    "print(sq_2.evalf(2000))"
   ]
  },
  {
   "cell_type": "markdown",
   "metadata": {},
   "source": [
    "Another reason that computers generally don't do symbolic computation is that it's **hard**. I mean, **really, really hard**. It's not uncommon for a symbolic approach to have exponential complexity (even, like the algorithm I studied for my PhD thesis, double exponential complexity) when the numerical approach may be quadratic, or simpler complexity.\n",
    "\n",
    "Not only is it hard, but most of the time it's not worth the effort. If you consider the computation $((\\sqrt{2}+\\sqrt{2})^3 + \\sqrt{2})^2$ we see that the numeric and symbolic computations are (after rounding the numeric solution) the same until the 9th decimal place. Double the precision of the numeric solution for the squareroot of 2 and you get a much more accurate solution with very little extra effort.\n",
    "\n",
    "So why do it at all? Because there are applications where we need an exact solution, and no numerical approach will do. There are also applications when a symbolic and numeric approach can be combined to give extreme accuracy (not quite exact but arbitrarily close) but with efficient complexity.\n",
    "\n",
    "In particular, symbolic computation can be used by mathematicians to help with their work. Much as an shopkeeper uses a calculator to help sum up the sales at the end of the day, a mathematician can use symbolic computation to solve equations for them. Not only is this faster than using brain power but you elimiate a large degree of human error."
   ]
  },
  {
   "cell_type": "markdown",
   "metadata": {},
   "source": [
    "## What can Computer Algebra do?"
   ]
  },
  {
   "cell_type": "markdown",
   "metadata": {},
   "source": [
    "So far, we have only seen the simplest of examples of what computer algebra can do. We manually solved the equation $x^2=2$ and just used the computer for computation.\n",
    "\n",
    "Now let's just get **SymPy** to solve it directly."
   ]
  },
  {
   "cell_type": "code",
   "execution_count": 12,
   "metadata": {
    "collapsed": false
   },
   "outputs": [
    {
     "data": {
      "image/png": "[encoded data removed]",
      "text/latex": [
       "$$\\left [ - \\sqrt{2}, \\quad \\sqrt{2}\\right ]$$"
      ],
      "text/plain": [
       "[-√2, √2]"
      ]
     },
     "execution_count": 12,
     "metadata": {},
     "output_type": "execute_result"
    }
   ],
   "source": [
    "x = symbols('x')\n",
    "solve(x**2-2,x)"
   ]
  },
  {
   "cell_type": "markdown",
   "metadata": {},
   "source": [
    "Notice that **SymPy** gives us the answer directly. Not only does it give us a solution, but it gives us *all* solutions. So let's get a little more complicated..."
   ]
  },
  {
   "cell_type": "code",
   "execution_count": 13,
   "metadata": {
    "collapsed": false
   },
   "outputs": [
    {
     "data": {
      "image/png": "[encoded data removed]",
      "text/latex": [
       "$$\\left [ 3, \\quad - i, \\quad i\\right ]$$"
      ],
      "text/plain": [
       "[3, -ⅈ, ⅈ]"
      ]
     },
     "execution_count": 13,
     "metadata": {},
     "output_type": "execute_result"
    }
   ],
   "source": [
    "solve(x**3-3*x**2+x-3,x)"
   ]
  },
  {
   "cell_type": "markdown",
   "metadata": {},
   "source": [
    "Cubics are pretty simple for **SymPy** (remember that cubics, and quartics, have an exact algorithm to solve them). Notice that we also get complex solutions, not just real solutions. This is not something a computer would generally be able to give us.\n",
    "\n",
    "But what happens if we have other variables?"
   ]
  },
  {
   "cell_type": "code",
   "execution_count": 15,
   "metadata": {
    "collapsed": false
   },
   "outputs": [
    {
     "data": {
      "image/png": "[encoded data removed]",
      "text/latex": [
       "$$\\left [ \\frac{1}{2 a} \\left(- b + \\sqrt{- 4 a c + b^{2}}\\right), \\quad - \\frac{1}{2 a} \\left(b + \\sqrt{- 4 a c + b^{2}}\\right)\\right ]$$"
      ],
      "text/plain": [
       "⎡        _____________   ⎛       _____________⎞ ⎤\n",
       "⎢       ╱           2    ⎜      ╱           2 ⎟ ⎥\n",
       "⎢-b + ╲╱  -4⋅a⋅c + b    -⎝b + ╲╱  -4⋅a⋅c + b  ⎠ ⎥\n",
       "⎢─────────────────────, ────────────────────────⎥\n",
       "⎣         2⋅a                     2⋅a           ⎦"
      ]
     },
     "execution_count": 15,
     "metadata": {},
     "output_type": "execute_result"
    }
   ],
   "source": [
    "a,b,c = symbols('a b c')\n",
    "solve(a*x**2+b*x+c, x)"
   ]
  },
  {
   "cell_type": "markdown",
   "metadata": {},
   "source": [
    "We can solve parametrized equations too, and in the above case we get the quadratic formula as the solution. "
   ]
  },
  {
   "cell_type": "code",
   "execution_count": null,
   "metadata": {
    "collapsed": true
   },
   "outputs": [],
   "source": []
  }
 ],
 "metadata": {
  "kernelspec": {
   "display_name": "Python 2",
   "language": "python",
   "name": "python2"
  },
  "language_info": {
   "codemirror_mode": {
    "name": "ipython",
    "version": 2
   },
   "file_extension": ".py",
   "mimetype": "text/x-python",
   "name": "python",
   "nbconvert_exporter": "python",
   "pygments_lexer": "ipython2",
   "version": "2.7.6"
  }
 },
 "nbformat": 4,
 "nbformat_minor": 0
}
