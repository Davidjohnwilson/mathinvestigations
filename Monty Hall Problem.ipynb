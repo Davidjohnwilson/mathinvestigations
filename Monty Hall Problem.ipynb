{
 "cells": [
  {
   "cell_type": "markdown",
   "metadata": {},
   "source": [
    "# The Monty Hall Problem\n",
    "### An Empirical Investigation"
   ]
  },
  {
   "cell_type": "code",
   "execution_count": 2,
   "metadata": {
    "collapsed": false
   },
   "outputs": [],
   "source": [
    "import random\n"
   ]
  },
  {
   "cell_type": "code",
   "execution_count": 2,
   "metadata": {
    "collapsed": true
   },
   "outputs": [],
   "source": [
    "def run_monty_hall(num_doors):\n",
    "    doors = [False for x in xrange(num_doors)]\n",
    "    \n",
    "    prize = int(num_doors*random.random())\n",
    "    \n",
    "    doors[prize]=True\n",
    "    \n",
    "    guess = int(num_doors*random.random())\n",
    "    \n",
    "    if doors[guess] == True:\n",
    "        return True\n",
    "    else:\n",
    "        return False\n",
    "    "
   ]
  },
  {
   "cell_type": "code",
   "execution_count": 3,
   "metadata": {
    "collapsed": false
   },
   "outputs": [
    {
     "name": "stdout",
     "output_type": "stream",
     "text": [
      "0.333245\n"
     ]
    }
   ],
   "source": [
    "num_correct = 0\n",
    "num_runs = 1000000\n",
    "for i in xrange(num_runs):\n",
    "    if run_monty_hall(3):\n",
    "        num_correct += 1\n",
    "print 1.0*num_correct/num_runs"
   ]
  },
  {
   "cell_type": "code",
   "execution_count": 4,
   "metadata": {
    "collapsed": true
   },
   "outputs": [],
   "source": [
    "def should_switch():\n",
    "    num_doors = 3\n",
    "    \n",
    "    doors = [False for x in xrange(num_doors)]\n",
    "    \n",
    "    prize = int(num_doors*random.random())\n",
    "    \n",
    "    doors[prize]=True\n",
    "    \n",
    "    guess = int(num_doors*random.random())\n",
    "    \n",
    "    if doors[guess] == True:\n",
    "        return False\n",
    "    else:\n",
    "        return True\n",
    "     "
   ]
  },
  {
   "cell_type": "code",
   "execution_count": 5,
   "metadata": {
    "collapsed": false
   },
   "outputs": [
    {
     "name": "stdout",
     "output_type": "stream",
     "text": [
      "Should switch: 66.1%\n",
      "Should not switch: 33.9%\n"
     ]
    }
   ],
   "source": [
    "num_should_switch = 0\n",
    "num_not_switch = 0\n",
    "num_runs = 1000\n",
    "for i in xrange(num_runs):\n",
    "    run = should_switch()\n",
    "    if run==True:\n",
    "        num_should_switch += 1\n",
    "    else:\n",
    "        num_not_switch += 1\n",
    "print \"Should switch: \" + str(100.0*num_should_switch/num_runs) + \"%\"\n",
    "print \"Should not switch: \" + str(100.0*num_not_switch/num_runs) + \"%\""
   ]
  },
  {
   "cell_type": "code",
   "execution_count": 6,
   "metadata": {
    "collapsed": true
   },
   "outputs": [],
   "source": [
    "def should_switch_doors(num_doors):\n",
    "    #Assume prize is door 0\n",
    "    guess = int(num_doors*random.random())\n",
    "    if guess == 0:\n",
    "        return -1\n",
    "    switch = int((num_doors-2)*random.random())\n",
    "    if switch == 0:\n",
    "        return 1\n",
    "    return 0\n",
    "    \n",
    "    \n",
    "    "
   ]
  },
  {
   "cell_type": "code",
   "execution_count": 7,
   "metadata": {
    "collapsed": false
   },
   "outputs": [
    {
     "name": "stdout",
     "output_type": "stream",
     "text": [
      "Should switch: 0.13%\n",
      "Should not switch: 0.12%\n"
     ]
    }
   ],
   "source": [
    "num_should_switch = 0\n",
    "num_not_switch = 0\n",
    "num_runs = 10000\n",
    "for i in xrange(num_runs):\n",
    "    run = should_switch_doors(1000)\n",
    "    if run==1:\n",
    "        num_should_switch += 1\n",
    "    elif run == -1:\n",
    "        num_not_switch += 1\n",
    "print \"Should switch: \" + str(100.0*num_should_switch/num_runs) + \"%\"\n",
    "print \"Should not switch: \" + str(100.0*num_not_switch/num_runs) + \"%\""
   ]
  },
  {
   "cell_type": "code",
   "execution_count": 20,
   "metadata": {
    "collapsed": true
   },
   "outputs": [],
   "source": [
    "switch = [0 for i in xrange(100)]\n",
    "notswitch = [0 for i in xrange(100)]\n",
    "neither = [0 for i in xrange(100)]"
   ]
  },
  {
   "cell_type": "code",
   "execution_count": 21,
   "metadata": {
    "collapsed": true
   },
   "outputs": [],
   "source": [
    "def simulate(num_doors,num_runs=100000):\n",
    "    num_should_switch = 0\n",
    "    num_not_switch = 0\n",
    "    num_neither = 0\n",
    "    for i in xrange(num_runs):\n",
    "        run = should_switch_doors(num_doors)\n",
    "        if run==1:\n",
    "            num_should_switch += 1\n",
    "        elif run == -1:\n",
    "            num_not_switch += 1\n",
    "        else:\n",
    "            num_neither += 1\n",
    "    return [1.0*num_should_switch/num_runs,1.0*num_not_switch/num_runs, 1.0*num_neither/num_runs]"
   ]
  },
  {
   "cell_type": "code",
   "execution_count": 22,
   "metadata": {
    "collapsed": false
   },
   "outputs": [
    {
     "name": "stdout",
     "output_type": "stream",
     "text": [
      "Result 5\n",
      "[0.266528, 0.200167, 0.533305]\n",
      "Result 10\n",
      "[0.112412, 0.100247, 0.787341]\n",
      "Result 15\n",
      "[0.071276, 0.06664, 0.862084]\n",
      "Result 20\n",
      "[0.052986, 0.04999, 0.897024]\n",
      "Result 25\n",
      "[0.041394, 0.039909, 0.918697]\n",
      "Result 30\n",
      "[0.034606, 0.033522, 0.931872]\n",
      "Result 35\n",
      "[0.029257, 0.028624, 0.942119]\n",
      "Result 40\n",
      "[0.025811, 0.025265, 0.948924]\n",
      "Result 45\n",
      "[0.022654, 0.0223, 0.955046]\n",
      "Result 50\n",
      "[0.020445, 0.020223, 0.959332]\n",
      "Result 55\n",
      "[0.018551, 0.01821, 0.963239]\n",
      "Result 60\n",
      "[0.016762, 0.016669, 0.966569]\n",
      "Result 65\n",
      "[0.01565, 0.015317, 0.969033]\n",
      "Result 70\n",
      "[0.014673, 0.014372, 0.970955]\n",
      "Result 75\n",
      "[0.013425, 0.013352, 0.973223]\n",
      "Result 80\n",
      "[0.012677, 0.012458, 0.974865]\n",
      "Result 85\n",
      "[0.012153, 0.011705, 0.976142]\n",
      "Result 90\n",
      "[0.011055, 0.01105, 0.977895]\n",
      "Result 95\n",
      "[0.010513, 0.010571, 0.978916]\n"
     ]
    }
   ],
   "source": [
    "for n in xrange(3,100):\n",
    "    res = simulate(n,1000000)\n",
    "    switch[n] = res[0]\n",
    "    notswitch[n] = res[1]\n",
    "    neither[n] = res[2]\n",
    "    if n % 5 == 0:\n",
    "        print \"Result %i\" % n\n",
    "        print res"
   ]
  },
  {
   "cell_type": "code",
   "execution_count": 24,
   "metadata": {
    "collapsed": false
   },
   "outputs": [],
   "source": [
    "%matplotlib inline\n",
    "import matplotlib.pyplot as plt"
   ]
  },
  {
   "cell_type": "code",
   "execution_count": 23,
   "metadata": {
    "collapsed": true
   },
   "outputs": [],
   "source": [
    "axis_nums = [i for i in xrange(100)]"
   ]
  },
  {
   "cell_type": "code",
   "execution_count": 26,
   "metadata": {
    "collapsed": false
   },
   "outputs": [
    {
     "data": {
      "image/png": "[encoded data removed]",
      "text/plain": [
       "<matplotlib.figure.Figure at 0x1135d8990>"
      ]
     },
     "metadata": {},
     "output_type": "display_data"
    }
   ],
   "source": [
    "plt.plot(axis_nums,switch,'r-',label='Should Switch')\n",
    "plt.plot(axis_nums,notswitch,'b-',label='Should Not Switch')\n",
    "plt.plot(axis_nums,neither,'g-',label='Neither')\n",
    "plt.legend(bbox_to_anchor=(1.05, 1), loc=2, borderaxespad=0.)\n",
    "plt.xlabel(\"Number of Doors\")\n",
    "plt.ylabel(\"Chance of Winning\")\n",
    "plt.show()"
   ]
  },
  {
   "cell_type": "code",
   "execution_count": 27,
   "metadata": {
    "collapsed": false
   },
   "outputs": [
    {
     "data": {
      "image/png": "[encoded data removed]",
      "text/plain": [
       "<matplotlib.figure.Figure at 0x1137ec210>"
      ]
     },
     "metadata": {},
     "output_type": "display_data"
    }
   ],
   "source": [
    "plt.plot(axis_nums[:10],switch[:10],'r-',label='Should Switch')\n",
    "plt.plot(axis_nums[:10],notswitch[:10],'b-',label='Should Not Switch')\n",
    "plt.plot(axis_nums[:10],neither[:10],'g-',label='Neither')\n",
    "plt.legend(bbox_to_anchor=(1.05, 1), loc=2, borderaxespad=0.)\n",
    "plt.xlabel(\"Number of Doors\")\n",
    "plt.ylabel(\"Chance of Winning\")\n",
    "plt.show()"
   ]
  },
  {
   "cell_type": "code",
   "execution_count": null,
   "metadata": {
    "collapsed": true
   },
   "outputs": [],
   "source": []
  }
 ],
 "metadata": {
  "kernelspec": {
   "display_name": "Python 2",
   "language": "python",
   "name": "python2"
  },
  "language_info": {
   "codemirror_mode": {
    "name": "ipython",
    "version": 2
   },
   "file_extension": ".py",
   "mimetype": "text/x-python",
   "name": "python",
   "nbconvert_exporter": "python",
   "pygments_lexer": "ipython2",
   "version": "2.7.6"
  }
 },
 "nbformat": 4,
 "nbformat_minor": 0
}
